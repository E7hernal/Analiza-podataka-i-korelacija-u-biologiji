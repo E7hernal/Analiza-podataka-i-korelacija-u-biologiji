{
 "cells": [
  {
   "cell_type": "markdown",
   "metadata": {},
   "source": [
    "## Analiza linearne stabilnosti SIRS modela"
   ]
  },
  {
   "cell_type": "markdown",
   "metadata": {},
   "source": [
    "### Jednadžbe\n",
    "\n",
    "$$\n",
    "\\begin{align*}\n",
    "\\frac{dS}{dt} &= -bSI + mR\\\\[10pt]\n",
    "\\frac{dI}{dt} &= bSI - rI\\\\[10pt]\n",
    "\\frac{dR}{dt} &= rI - mR\n",
    "\\end{align*}\n",
    "$$"
   ]
  },
  {
   "cell_type": "markdown",
   "metadata": {},
   "source": [
    "$S$ opisuje broj pojedinaca koji se mogu zaraziti (eng. *susceptible*), $I$ broj zaraženih pojedinaca, a $R$ broj oporavljenih pojedinaca. Oporavljeni pojedinci ne mogu više širiti zarazu, ali mogu izgubiti imunitet i ponovno postati susceptibilni."
   ]
  },
  {
   "cell_type": "markdown",
   "metadata": {},
   "source": [
    "### Stacionarna točka\n",
    "Za analizu linearne stabilnosti pretpostavljamo da je $\\left(\\bar S, \\bar I, \\bar R \\right)$ stacionarna točka, tj. da u toj točki vrijedi\n",
    "$$\n",
    "\\frac{dS}{dt} = \\frac{dI}{dt} = \\frac{dR}{dt} = 0\n",
    "$$\n",
    "\n",
    "### Taylorov razvoj oko stacionarne točke\n",
    "Napravimo razvoj rješenja oko stacionarne točke:\n",
    "$$\n",
    "\\begin{align*}\n",
    "S &= \\bar S + \\sigma\\\\\n",
    "I &= \\bar I + \\iota\\\\\n",
    "R &= \\bar R + \\rho\n",
    "\\end{align*}\n",
    "$$\n",
    "\n",
    "Vrijedi $\\dot \\sigma = \\dot S \\equiv f(S, I, R)$, $\\dot \\iota = \\dot I \\equiv G(S, I, R)$, $\\dot \\rho = \\dot R \\equiv h(S, I, R)$.\\\n",
    "Razvijemo funkciju $f$ u Taylorov red do linearnih članova u $\\sigma$, $\\iota$, $\\rho$:\n",
    "$$\n",
    "\\begin{align*}\n",
    "\\dot \\sigma = f(S, I, R) &= f(\\bar S, \\bar I, \\bar R) + \\frac{\\partial f}{\\partial S}\\left(\\bar S, \\bar I, \\bar R\\right) \\sigma + \\frac{\\partial f}{\\partial I} \\left(\\bar S, \\bar I, \\bar R \\right) \\iota + \\frac{\\partial f}{\\partial R} \\left(\\bar S, \\bar I, \\bar R \\right) \\rho + \\dots\\\\\n",
    "&= \\frac{\\partial f}{\\partial S}\\left(\\bar S, \\bar I, \\bar R\\right) \\sigma + \\frac{\\partial f}{\\partial I} \\left(\\bar S, \\bar I, \\bar R \\right) \\iota + \\frac{\\partial f}{\\partial R} \\left(\\bar S, \\bar I, \\bar R \\right) \\rho + \\dots\n",
    "\\end{align*}\n",
    "$$\n",
    "gdje smo iskoristili definiciju fiksne točke za uklanjanje konstantnog člana u Taylorovom razvoju. Analognim postupkom za $\\iota$ i $\\rho$ dobivamo matričnu jednadžbu\n",
    "$$\n",
    "\\begin{pmatrix}\n",
    "\\dot \\sigma\\\\[10pt]\n",
    "\\dot \\iota\\\\[10pt]\n",
    "\\dot \\rho\\\\\n",
    "\\end{pmatrix}\n",
    "=\n",
    "\\begin{pmatrix}\n",
    "\\frac{\\partial f}{\\partial S} & \\frac{\\partial f}{\\partial I} & \\frac{\\partial f}{\\partial R}\\\\[10pt]\n",
    "\\frac{\\partial g}{\\partial S} & \\frac{\\partial g}{\\partial I} & \\frac{\\partial g}{\\partial R}\\\\[10pt]\n",
    "\\frac{\\partial h}{\\partial S} & \\frac{\\partial h}{\\partial I} & \\frac{\\partial h}{\\partial R}\\\\\n",
    "\\end{pmatrix}\n",
    "\\begin{pmatrix}\n",
    "\\sigma\\\\[10pt]\n",
    "\\iota\\\\[10pt]\n",
    "\\rho\\\\\n",
    "\\end{pmatrix}\n",
    "$$\n",
    "3 x 3 matricu parcijalnih derivacija nazivamo Jacobijan i označavamo s $J$."
   ]
  },
  {
   "cell_type": "markdown",
   "metadata": {},
   "source": [
    "### Svojstvene vrijednosti Jacobijana\n",
    "Stabilnost rješenja ovisi o svojstvenim vrijednostima Jacobijana. Rješavanjem jednadžbe $J \\vec w = \\lambda \\vec w$ dobivamo tri svojstvene vrijednosti:\n",
    "$$\n",
    "\\begin{gather*}\n",
    "\\lambda_0 = 0\\\\[5pt]\n",
    "\\lambda_{1,2} = \\frac{1}{2} \\left[\\ b\\bar{S} - b\\bar{I} - r - m \\pm \\sqrt{\\left(b\\bar{S}-b\\bar{I}-r-m\\right)^2 - 4\\left(mb\\left(\\bar{I}-\\bar{S}\\right)+rb\\bar{I}+mr\\right)}\\ \\right]\\\\\n",
    "\\end{gather*}\n",
    "$$"
   ]
  },
  {
   "cell_type": "markdown",
   "metadata": {},
   "source": [
    "### Određivanje fiksnih točaka\n",
    "Fiksne točke dobivamo rješavanjem sustava $\\dot{S} = \\dot{I} = \\dot{R} = 0$. Postoje dva rješenja:\n",
    "$$\n",
    "\\begin{align*}\n",
    "\\bar{S} &= N    &\\hspace{4em}   \\bar{S} &= \\frac{r}{b}\\\\[10pt]\n",
    "\\bar{I} &= 0    &  \\bar{I} &= \\frac{mN-\\frac{mr}{b}}{m+r}\\\\[10pt]\n",
    "\\bar{R} &= 0    & \\bar{R} &= \\frac{rN-\\frac{r^2}{b}}{m+r}\\\\\n",
    "\\end{align*}\n",
    "$$"
   ]
  },
  {
   "cell_type": "markdown",
   "metadata": {},
   "source": [
    "### Karakterizacija fiksnih točaka\n",
    "Uvrštavanjem vrijednosti fiksnih točaka u jednadžbe za svojstvene vrijednosti Jacobijana dobivamo karakterizaciju stabilnosti fiksnih točaka.\\\n",
    "Za fiksnu točku $\\left(\\bar{S}, \\bar{I}, \\bar{R}\\right) = \\left(N, 0, 0\\right)$ dobivamo rješenja\n",
    "$$\n",
    "\\begin{gather*}\n",
    "\\lambda_0 = 0\\\\\n",
    "\\lambda_{1, 2} = \\frac{1}{2} \\left[bN-r-m \\pm |bN-r+m|\\right]\n",
    "\\end{gather*}\n",
    "$$\n",
    "U slučaju da je $bN > r$ imamo\n",
    "$$\n",
    "\\begin{gather*}\n",
    "\\lambda_1 = bN - r > 0\\\\\n",
    "\\lambda_2 = -m < 0\n",
    "\\end{gather*}\n",
    "$$\n",
    "iz čega vidimo da je fiksna točka nestabilna.\n",
    "Za $bN < r$ dobivamo\n",
    "$$\n",
    "\\begin{gather*}\n",
    "\\lambda_1 = -m < 0\\\\\n",
    "\\lambda_2 = bN-r < 0\n",
    "\\end{gather*}\n",
    "$$\n",
    "te je potrebna analiza viših redova kako bi se odredila priroda fiksne točke."
   ]
  },
  {
   "cell_type": "markdown",
   "metadata": {},
   "source": [
    "Za drugu fiksnu točku, $\\left(\\bar{S}, \\bar{I}, \\bar{R}\\right) = \\left(\\frac{r}{b}, \\frac{mN-\\frac{mr}{b}}{m+r}, \\frac{rN-\\frac{r^2}{b}}{m+r}\\right)$ uvrštavanjem u izraz za $\\lambda_{1, 2}$ imamo\n",
    "$$\n",
    "\\lambda_{1, 2} = \\frac{1}{2} \\left[\\ -m\\left(\\frac{bN-r}{m+r}+1\\right) \\pm m\\sqrt{\\left(\\frac{bN-r}{m+r}+1\\right)^2-\\frac{4}{m}\\left(bN-r\\right)}\\ \\ \\right]"
   ]
  },
  {
   "cell_type": "markdown",
   "metadata": {},
   "source": [
    "Razlikujemo dva slučaja: $bN-r > 0$ i $bN-r < 0$."
   ]
  },
  {
   "cell_type": "markdown",
   "metadata": {},
   "source": [
    "##### Slučaj a) $bN-r > 0$\n",
    "\n",
    "U ovom je slučaju faktor izvan korijena u izrazu za $\\lambda_{1, 2}$ negativan. Izraz pod korijenom je uvijek manji od faktora izvan korijena. Ako je izraz pod korijenom negativan imamo dvije kompleksne svojstvene vrijednosti s negativnim realnim dijelovima. **Fiksna točka je potencijalno stabilna**, ali budući da je $\\lambda_0 = 0$ trebaju nam viši redovi računa smetnje kako bismo to ispitali.\\\n",
    "Ako je izraz pod korijenom pozitivan, svojstvene vrijednosti $\\lambda_{1, 2}$ su čisto realne i negativne, što opet ukazuje na **potencijalno stabilnu fiksnu točku**, a čiju stabilnost možemo ispitati višim redovima Taylorovog razvoja."
   ]
  },
  {
   "cell_type": "markdown",
   "metadata": {},
   "source": [
    "##### Slučaj b) $r-bN < 0$\n",
    "\n",
    "Zapišemo svojstvene vrijednosti Jacobijana u obliku\n",
    "$$\n",
    "\\lambda_{1, 2} = \\frac{1}{2}\\left[m\\left(\\frac{r-bN}{m+r}-1\\right) \\pm m\\sqrt{\\left(1-\\frac{r-bN}{m+r}\\right)^2 + \\frac{4}{m}\\left(r-bN\\right)}\\ \\right]\n",
    "$$\n",
    "Sada je drugi član pod korijenom pozitivan. Vrijedi\n",
    "$$\n",
    "\\frac{r-bN}{m+r}-1 = \\frac{r-bN-m-r}{m+r} = -\\frac{bN+m}{m+r} < 0\n",
    "$$\n",
    "Član pod korijenom je sigurno veći od onog izvan korijena te će jedna od svojstvenih vrijednosti biti pozitivna, što znači da u ovom slučaju imamo **nestabilnu fiksnu točku**."
   ]
  },
  {
   "cell_type": "markdown",
   "metadata": {},
   "source": [
    "### Određivanje vrijednosti reprodukcijskog broja $R_0$\n",
    "\n",
    "Zapišemo sustav diferencijalnih jednadžbi u obliku\n",
    "$$\n",
    "\\begin{align*}\n",
    "\\frac{dS}{dt} &= -bSI + mR\\\\[10pt]\n",
    "\\frac{dI}{dt} &= bSI - rI = I \\left(bS - r\\right)\\\\[10pt]\n",
    "\\frac{dR}{dt} &= rI - mR\n",
    "\\end{align*}\n",
    "$$\n",
    "gdje je predznak vremenske promjene broja zaraženih $I$ zadan predznakom faktora $bS-r$. Ovaj faktor mijenja predznak u točki\n",
    "$$\n",
    "\\begin{gather*}\n",
    "S = \\frac{r}{b}\n",
    "\\end{gather*}\n",
    "$$\n",
    "Ako su svi pojedinci podložni zarazi $(S = N)$, imamo graničnu vrijednost\n",
    "$$\n",
    "N = \\frac{r}{b} \\implies \\frac{bN}{r} = 1\n",
    "$$\n",
    "Definiramo reprodukcijski broj $R_0$ kao\n",
    "$$\n",
    "R_0 \\equiv \\frac{bN}{r}\n",
    "$$\n",
    "Značenje parametra $R_0$ možemo vidjeti iz jednadžbe\n",
    "$$\n",
    "\\frac{dI}{dt} = I\\left(bS-r\\right) = Ir\\left(\\frac{b}{r} S - 1\\right) \\overset{S=N}{=} Ir\\left(R_0 - 1\\right)\n",
    "$$\n",
    "U početnom trenutku se za $R_0 > 1$ zaraza širi, dok se za $R_0 < 1$ smanjuje broj zaraženih."
   ]
  },
  {
   "cell_type": "markdown",
   "metadata": {},
   "source": []
  }
 ],
 "metadata": {
  "language_info": {
   "name": "python"
  }
 },
 "nbformat": 4,
 "nbformat_minor": 2
}
